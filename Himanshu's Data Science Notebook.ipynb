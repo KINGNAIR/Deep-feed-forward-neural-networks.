{
    "nbformat_minor": 1, 
    "cells": [
        {
            "execution_count": 17, 
            "cell_type": "code", 
            "metadata": {}, 
            "outputs": [], 
            "source": "dp1 = {'partno': 100,  'maxtemp': 35,  'mintemp': 35,  'maxvibration': 12,  'asperity': 0.32}\ndp2 = {'partno': 101,  'maxtemp': 46,  'mintemp': 35,  'maxvibration': 21,  'asperity': 0.34}\ndp3 = {'partno': 130,  'maxtemp': 56,  'mintemp': 46,  'maxvibration': 3412,  'asperity': 12.42}\ndp4 = {'partno': 131,  'maxtemp': 58,  'mintemp': 48,  'maxvibration': 3542,  'asperity': 13.43}"
        }, 
        {
            "execution_count": 8, 
            "cell_type": "code", 
            "metadata": {}, 
            "outputs": [], 
            "source": "def predict(dp):\n    if dp['maxvibration']> 100:\n        return 13\n    else:\n        return 0.33\n    "
        }, 
        {
            "execution_count": 13, 
            "cell_type": "code", 
            "metadata": {}, 
            "outputs": [
                {
                    "execution_count": 13, 
                    "metadata": {}, 
                    "data": {
                        "text/plain": "0.33"
                    }, 
                    "output_type": "execute_result"
                }
            ], 
            "source": "predict(dp1)"
        }, 
        {
            "execution_count": 14, 
            "cell_type": "code", 
            "metadata": {}, 
            "outputs": [
                {
                    "execution_count": 14, 
                    "metadata": {}, 
                    "data": {
                        "text/plain": "0.33"
                    }, 
                    "output_type": "execute_result"
                }
            ], 
            "source": "predict(dp2)"
        }, 
        {
            "execution_count": 15, 
            "cell_type": "code", 
            "metadata": {}, 
            "outputs": [
                {
                    "execution_count": 15, 
                    "metadata": {}, 
                    "data": {
                        "text/plain": "13"
                    }, 
                    "output_type": "execute_result"
                }
            ], 
            "source": "predict(dp3)"
        }, 
        {
            "execution_count": 16, 
            "cell_type": "code", 
            "metadata": {}, 
            "outputs": [
                {
                    "execution_count": 16, 
                    "metadata": {}, 
                    "data": {
                        "text/plain": "13"
                    }, 
                    "output_type": "execute_result"
                }
            ], 
            "source": "predict(dp4)"
        }, 
        {
            "execution_count": 20, 
            "cell_type": "code", 
            "metadata": {}, 
            "outputs": [], 
            "source": "w1 = 0.33\nw2 = 0\nw3 = 0\nw4 = 13/3412.0\n\ndef m1predict(dp):\n    return w1+w2*dp['maxtemp']+w3*dp['mintemp']+w4*dp['maxvibration']"
        }, 
        {
            "execution_count": 23, 
            "cell_type": "code", 
            "metadata": {}, 
            "outputs": [
                {
                    "execution_count": 23, 
                    "metadata": {}, 
                    "data": {
                        "text/plain": "0.08001172332942555"
                    }, 
                    "output_type": "execute_result"
                }
            ], 
            "source": "m1predict(dp2)"
        }, 
        {
            "execution_count": 24, 
            "cell_type": "code", 
            "metadata": {}, 
            "outputs": [], 
            "source": "dp1 = {'partno': 100,  'maxtemp': 35,  'mintemp': 35,  'maxvibration': 12,  'broken': 0}\ndp2 = {'partno': 101,  'maxtemp': 46,  'mintemp': 35,  'maxvibration': 21,  'broken': 0}\ndp3 = {'partno': 130,  'maxtemp': 56,  'mintemp': 46,  'maxvibration': 3412,  'broken': 1}\ndp4 = {'partno': 131,  'maxtemp': 58,  'mintemp': 48,  'maxvibration': 3542,  'broken': 1}"
        }, 
        {
            "execution_count": 25, 
            "cell_type": "code", 
            "metadata": {}, 
            "outputs": [], 
            "source": "def predict(dp):\n    if dp['maxvibration']> 100:\n        return 1\n    else:\n        return 0\n    "
        }, 
        {
            "execution_count": 26, 
            "cell_type": "code", 
            "metadata": {}, 
            "outputs": [
                {
                    "execution_count": 26, 
                    "metadata": {}, 
                    "data": {
                        "text/plain": "0"
                    }, 
                    "output_type": "execute_result"
                }
            ], 
            "source": "predict(dp1)"
        }, 
        {
            "execution_count": 27, 
            "cell_type": "code", 
            "metadata": {}, 
            "outputs": [
                {
                    "execution_count": 27, 
                    "metadata": {}, 
                    "data": {
                        "text/plain": "0"
                    }, 
                    "output_type": "execute_result"
                }
            ], 
            "source": "predict(dp2)"
        }, 
        {
            "execution_count": 28, 
            "cell_type": "code", 
            "metadata": {}, 
            "outputs": [
                {
                    "execution_count": 28, 
                    "metadata": {}, 
                    "data": {
                        "text/plain": "1"
                    }, 
                    "output_type": "execute_result"
                }
            ], 
            "source": "predict(dp3)"
        }, 
        {
            "execution_count": 29, 
            "cell_type": "code", 
            "metadata": {}, 
            "outputs": [
                {
                    "execution_count": 29, 
                    "metadata": {}, 
                    "data": {
                        "text/plain": "1"
                    }, 
                    "output_type": "execute_result"
                }
            ], 
            "source": "predict(dp4)"
        }, 
        {
            "execution_count": 40, 
            "cell_type": "code", 
            "metadata": {}, 
            "outputs": [], 
            "source": "import math\n\ndef sigmoid(x):\n    return 1/(1+math.exp(-x))"
        }, 
        {
            "execution_count": 44, 
            "cell_type": "code", 
            "metadata": {}, 
            "outputs": [], 
            "source": "w1 = 0.30\nw2 = 0\nw3 = 0\nw4 = 13/3412.0\n\ndef m1predict(dp):\n    return 1 if sigmoid(w1+w2*dp['maxtemp']+w3*dp['mintemp']+w4*dp['maxvibration']) > 0.7 else 0"
        }, 
        {
            "execution_count": 45, 
            "cell_type": "code", 
            "metadata": {}, 
            "outputs": [
                {
                    "execution_count": 45, 
                    "metadata": {}, 
                    "data": {
                        "text/plain": "1"
                    }, 
                    "output_type": "execute_result"
                }
            ], 
            "source": "m1predict(dp4)"
        }, 
        {
            "execution_count": 55, 
            "cell_type": "code", 
            "metadata": {}, 
            "outputs": [], 
            "source": "dp1 = {'partno': 100,  'maxtemp': 35,  'mintemp': 35,  'maxvibration': 12,  'asperity': 0.32}\ndp2 = {'partno': 101,  'maxtemp': 46,  'mintemp': 35,  'maxvibration': 21,  'asperity': 0.34}\ndp3 = {'partno': 130,  'maxtemp': 56,  'mintemp': 46,  'maxvibration': 3412,  'asperity': 12.42}\ndp4 = {'partno': 131,  'maxtemp': 58,  'mintemp': 48,  'maxvibration': 3542,  'asperity': 13.43}"
        }, 
        {
            "execution_count": 47, 
            "cell_type": "code", 
            "metadata": {}, 
            "outputs": [
                {
                    "execution_count": 47, 
                    "metadata": {}, 
                    "data": {
                        "text/plain": "{'asperity': 0.32,\n 'maxtemp': 35,\n 'maxvibration': 12,\n 'mintemp': 35,\n 'partno': 100}"
                    }, 
                    "output_type": "execute_result"
                }
            ], 
            "source": "dp1"
        }, 
        {
            "execution_count": 68, 
            "cell_type": "code", 
            "metadata": {}, 
            "outputs": [], 
            "source": "x1 =  [v for k, v in dp1.items()] "
        }, 
        {
            "execution_count": 69, 
            "cell_type": "code", 
            "metadata": {}, 
            "outputs": [
                {
                    "execution_count": 69, 
                    "metadata": {}, 
                    "data": {
                        "text/plain": "[35, 0.32, 12, 35, 100]"
                    }, 
                    "output_type": "execute_result"
                }
            ], 
            "source": "x1"
        }, 
        {
            "execution_count": null, 
            "cell_type": "code", 
            "metadata": {}, 
            "outputs": [], 
            "source": ""
        }
    ], 
    "metadata": {
        "kernelspec": {
            "display_name": "Python 3.5", 
            "name": "python3", 
            "language": "python"
        }, 
        "language_info": {
            "mimetype": "text/x-python", 
            "nbconvert_exporter": "python", 
            "version": "3.5.5", 
            "name": "python", 
            "file_extension": ".py", 
            "pygments_lexer": "ipython3", 
            "codemirror_mode": {
                "version": 3, 
                "name": "ipython"
            }
        }
    }, 
    "nbformat": 4
}